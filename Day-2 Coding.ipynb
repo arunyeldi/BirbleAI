{
  "nbformat": 4,
  "nbformat_minor": 0,
  "metadata": {
    "colab": {
      "provenance": [],
      "include_colab_link": true
    },
    "kernelspec": {
      "name": "python3",
      "display_name": "Python 3"
    },
    "language_info": {
      "name": "python"
    }
  },
  "cells": [
    {
      "cell_type": "markdown",
      "metadata": {
        "id": "view-in-github",
        "colab_type": "text"
      },
      "source": [
        "<a href=\"https://colab.research.google.com/github/arunyeldi/python-coding/blob/main/Day-2%20Coding.ipynb\" target=\"_parent\"><img src=\"https://colab.research.google.com/assets/colab-badge.svg\" alt=\"Open In Colab\"/></a>"
      ]
    },
    {
      "cell_type": "markdown",
      "source": [
        "## 1.Difference between the list and tuple?"
      ],
      "metadata": {
        "id": "HN6tCq60j2mQ"
      }
    },
    {
      "cell_type": "markdown",
      "source": [
        "List:\n",
        ">> Lists are mutable, which means you can modify their elements by adding, removing, or changing items after the list is created. You can use methods like append(), extend(), insert(), remove(), and pop() to modify a list.\n",
        ">> Lists are created using square brackets [].\n",
        ">> Lists have more built-in methods for modification, like append(), extend(), insert(), remove(), and pop().\n",
        "\n",
        "Tuple:\n",
        ">> Tuples are immutable, meaning once a tuple is created, you cannot change, add, or remove elements. The elements in a tuple are fixed at the time of creation.\n",
        ">> Tuples are created using parentheses ().\n",
        ">>  Tuples have fewer methods because they are immutable, but they still support common operations like indexing and slicing."
      ],
      "metadata": {
        "id": "fUXecdv6-YVM"
      }
    },
    {
      "cell_type": "code",
      "source": [
        "color_list = ['red', 'green', 'blue']\n",
        "color_list.append('yellow')\n",
        "print(\"Modified List of Colors:\", color_list)"
      ],
      "metadata": {
        "id": "Cw8ffkhMk6RQ",
        "colab": {
          "base_uri": "https://localhost:8080/"
        },
        "outputId": "6ca8cd6e-f1e3-40ab-bb16-01b96d536cc0"
      },
      "execution_count": 1,
      "outputs": [
        {
          "output_type": "stream",
          "name": "stdout",
          "text": [
            "Modified List of Colors: ['red', 'green', 'blue', 'yellow']\n"
          ]
        }
      ]
    },
    {
      "cell_type": "code",
      "source": [
        "color_tuple = ('red', 'green', 'blue')\n",
        "print(\"Original Tuple of Colors:\", color_tuple)"
      ],
      "metadata": {
        "colab": {
          "base_uri": "https://localhost:8080/"
        },
        "id": "jYFQPvB0CAJ6",
        "outputId": "5b5eb4cb-41b6-494c-e085-cff29a195c03"
      },
      "execution_count": 2,
      "outputs": [
        {
          "output_type": "stream",
          "name": "stdout",
          "text": [
            "Original Tuple of Colors: ('red', 'green', 'blue')\n"
          ]
        }
      ]
    },
    {
      "cell_type": "markdown",
      "source": [
        "## 2.How list is different from an array"
      ],
      "metadata": {
        "id": "uWhJG7hzk6Ov"
      }
    },
    {
      "cell_type": "markdown",
      "source": [
        "List:\n",
        "\n",
        "Mutability: Lists are mutable, meaning you can modify their elements after creation. They support dynamic resizing and various modification methods.\n",
        "Type Flexibility: Lists can contain elements of different data types. They are a general-purpose data structure.\n",
        "Syntax: Lists are created using square brackets [].\n",
        "\n",
        "Array:\n",
        "\n",
        "Mutability: Arrays can be mutable or immutable, depending on the type of array used. NumPy arrays, which are commonly used, are mutable.\n",
        "Type Specialization: NumPy arrays are specialized for numerical operations and are more efficient for mathematical computations.\n",
        "Syntax: NumPy arrays are created using the numpy library. Other types of arrays (e.g., array module) are also available."
      ],
      "metadata": {
        "id": "ubZ3kkdCFCmi"
      }
    },
    {
      "cell_type": "code",
      "source": [
        "number_list = [1, 2, 3, 4, 5]\n",
        "number_list.append(6)\n",
        "print(\"Modified List of Numbers:\", number_list)"
      ],
      "metadata": {
        "colab": {
          "base_uri": "https://localhost:8080/"
        },
        "id": "-ndRY_r8GI7b",
        "outputId": "feda3fa1-5d6d-40aa-9c17-272ba9cd1d8d"
      },
      "execution_count": 3,
      "outputs": [
        {
          "output_type": "stream",
          "name": "stdout",
          "text": [
            "Modified List of Numbers: [1, 2, 3, 4, 5, 6]\n"
          ]
        }
      ]
    },
    {
      "cell_type": "code",
      "source": [
        "from array import array\n",
        "fixed_size_array = array('i', [1, 2, 3, 4, 5])\n",
        "print(fixed_size_array[2])"
      ],
      "metadata": {
        "id": "MowyCcINo4Mn",
        "colab": {
          "base_uri": "https://localhost:8080/"
        },
        "outputId": "76b90453-ed1b-4227-9aad-b39457b911db"
      },
      "execution_count": 4,
      "outputs": [
        {
          "output_type": "stream",
          "name": "stdout",
          "text": [
            "3\n"
          ]
        }
      ]
    },
    {
      "cell_type": "markdown",
      "source": [],
      "metadata": {
        "id": "1uPEIFbxmQwt"
      }
    },
    {
      "cell_type": "markdown",
      "source": [
        "## 3. Use the python list append(),copy(), clear, count, extends(), index(), insert(), pop(), reverse(), sort(), min(), max(),and sum()"
      ],
      "metadata": {
        "id": "_0Rn7JQSk6M1"
      }
    },
    {
      "cell_type": "code",
      "source": [
        "my_list = [3, 1, 4, 1, 5, 9, 2, 6, 5, 3, 5]\n",
        "my_list.append(8)\n",
        "print(\"After append(8):\", my_list)\n",
        "\n",
        "copied_list = my_list.copy()\n",
        "print(\"Copied List:\", copied_list)\n",
        "\n",
        "count_of_5 = my_list.count(5)\n",
        "print(\"Count of 5:\", count_of_5)\n",
        "\n",
        "extension_list = [7, 9, 8]\n",
        "my_list.extend(extension_list)\n",
        "print(\"After extend([7, 9, 8]):\", my_list)\n",
        "\n",
        "index_of_2 = my_list.index(2)\n",
        "print(\"Index of 2:\", index_of_2)\n",
        "\n",
        "my_list.insert(4, 10)\n",
        "print(\"After insert(4, 10):\", my_list)\n",
        "\n",
        "popped_element = my_list.pop()\n",
        "print(\"Popped Element:\", popped_element)\n",
        "\n",
        "my_list.reverse()\n",
        "print(\"After reverse():\", my_list)\n",
        "\n",
        "my_list.sort()\n",
        "print(\"After sort():\", my_list)\n",
        "\n",
        "min_value = min(my_list)\n",
        "max_value = max(my_list)\n",
        "print(\"Min Value:\", min_value)\n",
        "print(\"Max Value:\", max_value)\n",
        "\n",
        "sum_of_elements = sum(my_list)\n",
        "print(\"Sum of Elements:\", sum_of_elements)\n",
        "\n",
        "my_list.clear()\n",
        "print(\"After clear():\", my_list)"
      ],
      "metadata": {
        "colab": {
          "base_uri": "https://localhost:8080/"
        },
        "id": "GMcBwthhIMVz",
        "outputId": "b0f2a4e4-8149-44b4-d6da-f84c7b1a1d9c"
      },
      "execution_count": 5,
      "outputs": [
        {
          "output_type": "stream",
          "name": "stdout",
          "text": [
            "After append(8): [3, 1, 4, 1, 5, 9, 2, 6, 5, 3, 5, 8]\n",
            "Copied List: [3, 1, 4, 1, 5, 9, 2, 6, 5, 3, 5, 8]\n",
            "Count of 5: 3\n",
            "After extend([7, 9, 8]): [3, 1, 4, 1, 5, 9, 2, 6, 5, 3, 5, 8, 7, 9, 8]\n",
            "Index of 2: 6\n",
            "After insert(4, 10): [3, 1, 4, 1, 10, 5, 9, 2, 6, 5, 3, 5, 8, 7, 9, 8]\n",
            "Popped Element: 8\n",
            "After reverse(): [9, 7, 8, 5, 3, 5, 6, 2, 9, 5, 10, 1, 4, 1, 3]\n",
            "After sort(): [1, 1, 2, 3, 3, 4, 5, 5, 5, 6, 7, 8, 9, 9, 10]\n",
            "Min Value: 1\n",
            "Max Value: 10\n",
            "Sum of Elements: 78\n",
            "After clear(): []\n"
          ]
        }
      ]
    },
    {
      "cell_type": "markdown",
      "source": [
        "## 4, How would you divide the list into two parts?"
      ],
      "metadata": {
        "id": "W9xfjUWak6J_"
      }
    },
    {
      "cell_type": "markdown",
      "source": [
        "By using slicing a list can be divided into two part. Slicing allows you to extract a portion of a list based on indices."
      ],
      "metadata": {
        "id": "AF1OLTQII4p0"
      }
    },
    {
      "cell_type": "code",
      "source": [
        "my_list = [1, 2, 3, 4, 5, 6, 7, 8, 9, 10]\n",
        "midpoint = len(my_list) // 2\n",
        "first_part = my_list[:midpoint]\n",
        "second_part = my_list[midpoint:]\n",
        "print(\"Original List:\", my_list)\n",
        "print(\"First Part:\", first_part)\n",
        "print(\"Second Part:\", second_part)"
      ],
      "metadata": {
        "colab": {
          "base_uri": "https://localhost:8080/"
        },
        "id": "yeUA89PZIvbP",
        "outputId": "8098f15d-7dd0-49d6-df33-ebf76e165f4b"
      },
      "execution_count": 6,
      "outputs": [
        {
          "output_type": "stream",
          "name": "stdout",
          "text": [
            "Original List: [1, 2, 3, 4, 5, 6, 7, 8, 9, 10]\n",
            "First Part: [1, 2, 3, 4, 5]\n",
            "Second Part: [6, 7, 8, 9, 10]\n"
          ]
        }
      ]
    },
    {
      "cell_type": "markdown",
      "source": [
        "## 5. how to filter the multiple of 3 from a given list and them remove the odd number from the new filtered list.\n",
        "Eg A = [1,2,3,4,5,6,7,8,9,21,23,24]\n",
        "Filter_lsit = [3,6,9,21,24]\n",
        "output_list = [6,24]"
      ],
      "metadata": {
        "id": "Qb1mVGfnk6G5"
      }
    },
    {
      "cell_type": "markdown",
      "source": [
        "By using list comprehension technique it is possible to filter the multiple of 3 from a given list and then removing the odd numbers from the new filtered list."
      ],
      "metadata": {
        "id": "lbiKmvqzKYqO"
      }
    },
    {
      "cell_type": "code",
      "source": [
        "original_list = [1,2,3,4,5,6,7,8,9,21,23,24]\n",
        "multiples_of_3 = [num for num in original_list if num % 3 == 0]\n",
        "filtered_list = [num for num in multiples_of_3 if num % 2 == 0]\n",
        "print(\"Original List:\", original_list)\n",
        "print(\"Multiples of 3:\", multiples_of_3)\n",
        "print(\"Filtered List (Even multiples of 3):\", filtered_list)"
      ],
      "metadata": {
        "colab": {
          "base_uri": "https://localhost:8080/"
        },
        "id": "sjYtP8uvKsq7",
        "outputId": "80295794-9050-4cdb-9fee-f65c2e53bfb5"
      },
      "execution_count": 7,
      "outputs": [
        {
          "output_type": "stream",
          "name": "stdout",
          "text": [
            "Original List: [1, 2, 3, 4, 5, 6, 7, 8, 9, 21, 23, 24]\n",
            "Multiples of 3: [3, 6, 9, 21, 24]\n",
            "Filtered List (Even multiples of 3): [6, 24]\n"
          ]
        }
      ]
    },
    {
      "cell_type": "markdown",
      "source": [
        "## 6. How you can access keys and values simultaneously and update its value"
      ],
      "metadata": {
        "id": "auhYyjixk6FD"
      }
    },
    {
      "cell_type": "markdown",
      "source": [
        "By using the items() method it is possible to access keys and values simultaneously in a dictionary. This method returns a view object that displays a list of a dictionary's (key, value) tuple pairs. Once accessed to these pairs, can update the values associated with the keys."
      ],
      "metadata": {
        "id": "y63t75pKMUKH"
      }
    },
    {
      "cell_type": "code",
      "source": [
        "my_dict = {'a': 1, 'b': 2, 'c': 3, 'd': 4}\n",
        "for key, value in my_dict.items():\n",
        "    print(f\"Key: {key}, Value: {value}\")\n",
        "for key, value in my_dict.items():\n",
        "    my_dict[key] = value * 2\n",
        "print(\"Updated Dictionary:\", my_dict)"
      ],
      "metadata": {
        "colab": {
          "base_uri": "https://localhost:8080/"
        },
        "id": "BtYAu_3RNGh7",
        "outputId": "88367c64-5dfa-4c34-b633-845e91f53c1e"
      },
      "execution_count": 1,
      "outputs": [
        {
          "output_type": "stream",
          "name": "stdout",
          "text": [
            "Key: a, Value: 1\n",
            "Key: b, Value: 2\n",
            "Key: c, Value: 3\n",
            "Key: d, Value: 4\n",
            "Updated Dictionary: {'a': 2, 'b': 4, 'c': 6, 'd': 8}\n"
          ]
        }
      ]
    },
    {
      "cell_type": "markdown",
      "source": [
        "## 7. Write python program to join, merge, concatente the two dictionaries..\n"
      ],
      "metadata": {
        "id": "vV00n0awk5_G"
      }
    },
    {
      "cell_type": "code",
      "source": [
        "dict1 = {'a': 1, 'b': 2}\n",
        "dict2 = {'c': 3, 'd': 4}\n",
        "dict1.update(dict2)\n",
        "print(\"Joined Dictionary: \", dict1)\n",
        "merge_dict = {**dict1, **dict2}\n",
        "print(\"Merged Dictionary: \", merge_dict)\n",
        "concat_dict = dict(list(dict1.items()) + list(dict2.items()))\n",
        "print(\"Concatenated Dictionary: \", concat_dict)"
      ],
      "metadata": {
        "colab": {
          "base_uri": "https://localhost:8080/"
        },
        "id": "ZlVqoRayOaV-",
        "outputId": "0be4e536-f90e-413c-d406-089cb9154f1f"
      },
      "execution_count": 3,
      "outputs": [
        {
          "output_type": "stream",
          "name": "stdout",
          "text": [
            "Joined Dictionary:  {'a': 1, 'b': 2, 'c': 3, 'd': 4}\n",
            "Merged Dictionary:  {'a': 1, 'b': 2, 'c': 3, 'd': 4}\n",
            "Concatenated Dictionary:  {'a': 1, 'b': 2, 'c': 3, 'd': 4}\n"
          ]
        }
      ]
    },
    {
      "cell_type": "markdown",
      "source": [
        "## 8. How would you check a specific keys from the dictionary??\n"
      ],
      "metadata": {
        "id": "Z_7dpypWnQ-z"
      }
    },
    {
      "cell_type": "markdown",
      "source": [
        "By using \"in\" keyword it is possible to check if specific keys exist in a dictionary."
      ],
      "metadata": {
        "id": "FDh2SFWcRELY"
      }
    },
    {
      "cell_type": "code",
      "source": [
        "my_dict = {'a': 1, 'b': 2, 'c': 3, 'd': 4}\n",
        "keys_to_check = ['a', 'b', 'e']\n",
        "for key in keys_to_check:\n",
        "    if key in my_dict:\n",
        "        print(f\"Key '{key}' exists in the dictionary with value: {my_dict[key]}\")\n",
        "    else:\n",
        "        print(f\"Key '{key}' does not exist in the dictionary\")"
      ],
      "metadata": {
        "colab": {
          "base_uri": "https://localhost:8080/"
        },
        "id": "ugxeOksLQzyU",
        "outputId": "10da7b3b-7939-4431-f765-e708c5eeb5b5"
      },
      "execution_count": 14,
      "outputs": [
        {
          "output_type": "stream",
          "name": "stdout",
          "text": [
            "Key 'a' exists in the dictionary with value: 1\n",
            "Key 'b' exists in the dictionary with value: 2\n",
            "Key 'e' does not exist in the dictionary\n"
          ]
        }
      ]
    },
    {
      "cell_type": "markdown",
      "source": [
        "## 9. write a python program to find the unique vowel present in the sentence"
      ],
      "metadata": {
        "id": "EjxeB4ntnirH"
      }
    },
    {
      "cell_type": "code",
      "source": [
        "def unique_vowels(sentence):\n",
        "    vowels = set(\"aeiouAEIOU\")\n",
        "    unique_vowels_set = set()\n",
        "    for char in sentence:\n",
        "        if char in vowels and char not in unique_vowels_set:\n",
        "            unique_vowels_set.add(char)\n",
        "    return unique_vowels_set\n",
        "sentence = \"Hello Everyone..!, I'm Arun\"\n",
        "result = unique_vowels(sentence)\n",
        "print(\"Unique vowels present in the sentence:\", result)"
      ],
      "metadata": {
        "colab": {
          "base_uri": "https://localhost:8080/"
        },
        "id": "yBUjPRMWRj8R",
        "outputId": "cb3df9fd-1981-4a1c-f1a7-63900415f6d9"
      },
      "execution_count": 15,
      "outputs": [
        {
          "output_type": "stream",
          "name": "stdout",
          "text": [
            "Unique vowels present in the sentence: {'e', 'E', 'u', 'A', 'o', 'I'}\n"
          ]
        }
      ]
    },
    {
      "cell_type": "markdown",
      "source": [
        "## 10. We know that tuple is immutable, do any thing and add element to the tuples."
      ],
      "metadata": {
        "id": "B1VBImcfns6V"
      }
    },
    {
      "cell_type": "markdown",
      "source": [
        "Since tuples are immutable, cannot directly add elements to an existing tuple. Instead, it is possible by creating a new tuple by concatenating or combining multiple tuples together."
      ],
      "metadata": {
        "id": "4TWhA9qLTQDP"
      }
    },
    {
      "cell_type": "code",
      "source": [
        "my_tuple = (1, 2, 3)\n",
        "new_tuple = my_tuple + (4, 5)\n",
        "print(\"Modified tuple: \", new_tuple)"
      ],
      "metadata": {
        "colab": {
          "base_uri": "https://localhost:8080/"
        },
        "id": "ZV4Z3qE3TlyE",
        "outputId": "5783c983-a62e-45b5-f60e-f63a1b5dd227"
      },
      "execution_count": 17,
      "outputs": [
        {
          "output_type": "stream",
          "name": "stdout",
          "text": [
            "Modified tuple:  (1, 2, 3, 4, 5)\n"
          ]
        }
      ]
    },
    {
      "cell_type": "markdown",
      "source": [
        "## 11. How would you sum the list of tuple and sum of tuple of list\n",
        "list  = [(2,3),(4,5),(6,4)]\n",
        "output= [5,9,10]\n",
        "\n",
        "tuple  =([2,3],[4,5],[6,4])\n",
        "output  =  (5,9,10)"
      ],
      "metadata": {
        "id": "Yd7tDQHuoGFm"
      }
    },
    {
      "cell_type": "markdown",
      "source": [
        "It is possible using list comprehension to extract the elements from each tuple in the list and then use the sum() function to sum them up."
      ],
      "metadata": {
        "id": "f7fWSlMEVCeY"
      }
    },
    {
      "cell_type": "code",
      "source": [
        "list_of_tuples =  [(2,3),(4,5),(6,4)]\n",
        "sum_of_list_of_tuples = [sum(pair) for pair in list_of_tuples]\n",
        "print(\"Sum of List of Tuples:\", sum_of_list_of_tuples)"
      ],
      "metadata": {
        "colab": {
          "base_uri": "https://localhost:8080/"
        },
        "id": "lMDAMQcvUkIj",
        "outputId": "c2072426-8ffc-4afd-f899-8bc5064e9f6e"
      },
      "execution_count": 20,
      "outputs": [
        {
          "output_type": "stream",
          "name": "stdout",
          "text": [
            "Sum of List of Tuples: [5, 9, 10]\n"
          ]
        }
      ]
    },
    {
      "cell_type": "code",
      "source": [
        "tuple_of_lists = ([2,3],[4,5],[6,4])\n",
        "sum_of_tuple_of_lists = tuple(sum(sublist) for sublist in tuple_of_lists)\n",
        "print(\"Sum of Tuple of Lists:\", sum_of_tuple_of_lists)"
      ],
      "metadata": {
        "colab": {
          "base_uri": "https://localhost:8080/"
        },
        "id": "81xA9Bq9U9Yw",
        "outputId": "29fd9335-c1af-4758-ecd1-c19bb9ba9ee8"
      },
      "execution_count": 26,
      "outputs": [
        {
          "output_type": "stream",
          "name": "stdout",
          "text": [
            "Sum of Tuple of Lists: (5, 9, 10)\n"
          ]
        }
      ]
    },
    {
      "cell_type": "markdown",
      "source": [
        "## 12. FIND THE FREQUENCY OF THE KEYS IN THE GIVEN DICTIONARY"
      ],
      "metadata": {
        "id": "YiXg_vDpoq7X"
      }
    },
    {
      "cell_type": "markdown",
      "source": [
        "To find the frequency of keys in a given dictionary, iterate through the dictionary and use a separate dictionary to keep track of the frequency of each key."
      ],
      "metadata": {
        "id": "KSMfjc75Wo3b"
      }
    },
    {
      "cell_type": "code",
      "source": [
        "def key_frequency(dictionary):\n",
        "    frequency = {}\n",
        "    for key in dictionary:\n",
        "        if key in frequency:\n",
        "            frequency[key] += 1\n",
        "        else:\n",
        "            frequency[key] = 1\n",
        "    return frequency\n",
        "my_dict = {'a': 1, 'b': 2, 'c': 3, 'a': 4, 'b': 5, 'a': 6}\n",
        "key_freq = key_frequency(my_dict)\n",
        "for key, freq in key_freq.items():\n",
        "    print(f\"Key '{key}' occurs {freq} time(s) in the dictionary.\")"
      ],
      "metadata": {
        "colab": {
          "base_uri": "https://localhost:8080/"
        },
        "id": "GkjIF1IuWtGs",
        "outputId": "27e7c470-8655-4ee1-ca75-c83c91dc62a0"
      },
      "execution_count": 27,
      "outputs": [
        {
          "output_type": "stream",
          "name": "stdout",
          "text": [
            "Key 'a' occurs 1 time(s) in the dictionary.\n",
            "Key 'b' occurs 1 time(s) in the dictionary.\n",
            "Key 'c' occurs 1 time(s) in the dictionary.\n"
          ]
        }
      ]
    }
  ]
}