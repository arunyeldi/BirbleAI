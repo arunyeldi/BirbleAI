{
  "nbformat": 4,
  "nbformat_minor": 0,
  "metadata": {
    "colab": {
      "provenance": [],
      "include_colab_link": true
    },
    "kernelspec": {
      "name": "python3",
      "display_name": "Python 3"
    },
    "language_info": {
      "name": "python"
    }
  },
  "cells": [
    {
      "cell_type": "markdown",
      "metadata": {
        "id": "view-in-github",
        "colab_type": "text"
      },
      "source": [
        "<a href=\"https://colab.research.google.com/github/arunyeldi/BirbleAI/blob/main/Day-1%20Assignment.ipynb\" target=\"_parent\"><img src=\"https://colab.research.google.com/assets/colab-badge.svg\" alt=\"Open In Colab\"/></a>"
      ]
    },
    {
      "cell_type": "markdown",
      "source": [
        "## how would you confimm that two strings have the same identity?"
      ],
      "metadata": {
        "id": "eh5Ph74_HqpD"
      }
    },
    {
      "cell_type": "code",
      "source": [
        "# using \"is\" operator we can conclude whether the given two strings have the same identity or not\n",
        "\n",
        "first_string = input(\"Enter the first string: \")\n",
        "second_string = input(\"Enter the second string: \")\n",
        "if first_string is second_string:\n",
        "  print(\"Given two strings have the same identity\")\n",
        "else:\n",
        "  print(\"Given two strings do not have the same identity\")"
      ],
      "metadata": {
        "id": "zIobT8sES5rS",
        "colab": {
          "base_uri": "https://localhost:8080/"
        },
        "outputId": "f60271e3-61df-4f7d-8f31-b6a58b142494"
      },
      "execution_count": 26,
      "outputs": [
        {
          "output_type": "stream",
          "name": "stdout",
          "text": [
            "Enter the first string: birbleai\n",
            "Enter the second string: birbleai\n",
            "Given two strings do not have the same identity\n"
          ]
        }
      ]
    },
    {
      "cell_type": "markdown",
      "source": [
        "## How to find the length and index of the string?"
      ],
      "metadata": {
        "id": "duytPz1XIvDx"
      }
    },
    {
      "cell_type": "code",
      "source": [
        "string = input(\"Enter the string: \")\n",
        "\n",
        "# to find the length of the string\n",
        "string_length = len(string)\n",
        "print(\"Length of the string is : \" + str(string_length))\n",
        "\n",
        "# to find the index of the string\n",
        "sub_string = input(\"Enter the sub string: \")\n",
        "index_of_sub_string = string.find(sub_string)\n",
        "print(\"index of the sub string is : \" + str(index_of_sub_string))\n"
      ],
      "metadata": {
        "id": "cuEJ9hZ_S4df",
        "colab": {
          "base_uri": "https://localhost:8080/"
        },
        "outputId": "88c95e6f-6a58-4e3b-b000-1a4e8dcf743c"
      },
      "execution_count": 17,
      "outputs": [
        {
          "output_type": "stream",
          "name": "stdout",
          "text": [
            "Enter the string: python programming\n",
            "Length of the string is : 18\n",
            "Enter the sub string: program\n",
            "index of the sub string is : 7\n"
          ]
        }
      ]
    },
    {
      "cell_type": "markdown",
      "source": [
        "## how to check a string contain a specific substring"
      ],
      "metadata": {
        "id": "EGK-LzalIO_i"
      }
    },
    {
      "cell_type": "code",
      "source": [
        "string = input(\"Enter the string: \")\n",
        "sub_string = input(\"Enter the sub string: \")\n",
        "\n",
        "if sub_string in string:\n",
        "  print(\"string contain a sub string\")\n",
        "else:\n",
        "  print(\"string do not contain the given sub string\")"
      ],
      "metadata": {
        "id": "g1HYIC9gJ7Vi",
        "colab": {
          "base_uri": "https://localhost:8080/"
        },
        "outputId": "f0b3d1b6-0c67-4bfa-cb35-63bfe3096dbb"
      },
      "execution_count": 18,
      "outputs": [
        {
          "output_type": "stream",
          "name": "stdout",
          "text": [
            "Enter the string: BirbleAI\n",
            "Enter the sub string: AI\n",
            "string contain a sub string\n"
          ]
        }
      ]
    },
    {
      "cell_type": "markdown",
      "source": [
        "## how to a take a string from backward with two step difference?\n"
      ],
      "metadata": {
        "id": "LmY6RXjoJF9h"
      }
    },
    {
      "cell_type": "code",
      "source": [
        "string = input(\"Enter the string: \")\n",
        "# by using string slicing\n",
        "ans = string[::-2]\n",
        "print(\"String from backward with two step difference is: \", ans)"
      ],
      "metadata": {
        "id": "6W8cdZC7X15O",
        "colab": {
          "base_uri": "https://localhost:8080/"
        },
        "outputId": "1c67165e-a078-455c-ee2f-75c9aa221e5c"
      },
      "execution_count": 19,
      "outputs": [
        {
          "output_type": "stream",
          "name": "stdout",
          "text": [
            "Enter the string: python programming\n",
            "String from backward with two step difference is:  gimropnhy\n"
          ]
        }
      ]
    },
    {
      "cell_type": "markdown",
      "source": [
        "## how to find the index of the last element"
      ],
      "metadata": {
        "id": "7eg6JfyuJr_2"
      }
    },
    {
      "cell_type": "code",
      "source": [
        "string = input(\"Enter the string: \")\n",
        "last_element_index = len(string) - 1\n",
        "print(\"Index of the last element is: \", last_element_index)"
      ],
      "metadata": {
        "id": "T84ODp77J8zR",
        "colab": {
          "base_uri": "https://localhost:8080/"
        },
        "outputId": "f7e4db16-9d63-4941-946e-bf0c6e1da213"
      },
      "execution_count": 20,
      "outputs": [
        {
          "output_type": "stream",
          "name": "stdout",
          "text": [
            "Enter the string: python\n",
            "Index of the last element is:  5\n"
          ]
        }
      ]
    },
    {
      "cell_type": "markdown",
      "source": [
        "## Write 2 ways to concatinate the string"
      ],
      "metadata": {
        "id": "FTdxvLc1J0lv"
      }
    },
    {
      "cell_type": "code",
      "source": [
        "string1 = input(\"Enter first string: \")\n",
        "string2 = input(\"Enter second string: \")\n",
        "\n",
        "# method-1 using '+' operator\n",
        "print(\"Way-1 String Concatination using '+' operator: \", string1 + string2)\n",
        "\n",
        "# method-2 using join() method\n",
        "print(\"Way-2 String concatination using join() method: \", \"\".join([string1, string2]))"
      ],
      "metadata": {
        "id": "j8P9ODeTJ9Zz",
        "colab": {
          "base_uri": "https://localhost:8080/"
        },
        "outputId": "89e73682-0d9e-436e-d354-ad5be6069e46"
      },
      "execution_count": 25,
      "outputs": [
        {
          "output_type": "stream",
          "name": "stdout",
          "text": [
            "Enter first string: Python\n",
            "Enter second string:  Coding\n",
            "Way-1 String Concatination using '+' operator:  Python Coding\n",
            "Way-2 String concatination using join() method:  Python Coding\n"
          ]
        }
      ]
    }
  ]
}