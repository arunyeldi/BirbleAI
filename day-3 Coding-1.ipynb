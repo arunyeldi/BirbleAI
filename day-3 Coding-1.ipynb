{
  "nbformat": 4,
  "nbformat_minor": 0,
  "metadata": {
    "colab": {
      "provenance": [],
      "include_colab_link": true
    },
    "kernelspec": {
      "name": "python3",
      "display_name": "Python 3"
    },
    "language_info": {
      "name": "python"
    }
  },
  "cells": [
    {
      "cell_type": "markdown",
      "metadata": {
        "id": "view-in-github",
        "colab_type": "text"
      },
      "source": [
        "<a href=\"https://colab.research.google.com/github/arunyeldi/python-coding/blob/main/day-3%20Coding-1.ipynb\" target=\"_parent\"><img src=\"https://colab.research.google.com/assets/colab-badge.svg\" alt=\"Open In Colab\"/></a>"
      ]
    },
    {
      "cell_type": "markdown",
      "source": [],
      "metadata": {
        "id": "KZ91_NegViLz"
      }
    },
    {
      "cell_type": "markdown",
      "source": [
        "## problem 1\n",
        "Create a dictionary where the keys correspond to the area of a flat adn value for each is the price of the house for 10 flat in kompally"
      ],
      "metadata": {
        "id": "B1Fhdmi9V3LI"
      }
    },
    {
      "cell_type": "code",
      "source": [
        "# Dictionary of house area and house prices of 10 houses in\n",
        "#HInt: area_price = {area:price}\n",
        "area_price = {\n",
        "    400 : 120000,\n",
        "    500 : 130000,\n",
        "    220 : 60000,\n",
        "    600 : 140000,\n",
        "    300 : 80000,\n",
        "    180 : 50000,\n",
        "    450 : 125000,\n",
        "    420 : 120000,\n",
        "    580 : 140000,\n",
        "    500 : 135000\n",
        "}\n",
        "print(area_price)"
      ],
      "metadata": {
        "id": "zihWmw3NWXQX",
        "colab": {
          "base_uri": "https://localhost:8080/"
        },
        "outputId": "ae628be9-1ce4-4950-b919-a1cb2604bd66"
      },
      "execution_count": null,
      "outputs": [
        {
          "output_type": "stream",
          "name": "stdout",
          "text": [
            "{400: 120000, 500: 135000, 220: 60000, 600: 140000, 300: 80000, 180: 50000, 450: 125000, 420: 120000, 580: 140000}\n"
          ]
        }
      ]
    },
    {
      "cell_type": "markdown",
      "source": [
        "### Now broker predicts the price as can be written as : <b><code>predicted_price(area) = 0.06*area + 15</code></b>"
      ],
      "metadata": {
        "id": "JI2jaDf8Wp2D"
      }
    },
    {
      "cell_type": "markdown",
      "source": [
        "Using the concept of list comprehension,create a list of predicted flat price using the above formula\n"
      ],
      "metadata": {
        "id": "v_K_Z8dtW6-D"
      }
    },
    {
      "cell_type": "code",
      "source": [
        "def predicted_price(a):\n",
        "  return ((0.06*a)+15)\n",
        "# Create a list of house areas\n",
        "areas = [400, 500, 200, 600, 300, 220, 450, 420, 580, 500]\n",
        "# Use list comprehension to store the predicted house prices in a list\n",
        "price_list=[predicted_price(i) for i in areas]\n",
        "# Print the list of predicted flat prices\n",
        "print(price_list)"
      ],
      "metadata": {
        "id": "F732P6DHXVYH",
        "colab": {
          "base_uri": "https://localhost:8080/"
        },
        "outputId": "3a1e9b3a-12f0-4021-fbfa-b797eb9cab83"
      },
      "execution_count": null,
      "outputs": [
        {
          "output_type": "stream",
          "name": "stdout",
          "text": [
            "[39.0, 45.0, 27.0, 51.0, 33.0, 28.2, 42.0, 40.2, 49.8, 45.0]\n"
          ]
        }
      ]
    },
    {
      "cell_type": "markdown",
      "source": [
        "## Create another list which contains the squares of differences of each element of the two price lists : the actual prices and the predicted prices\n"
      ],
      "metadata": {
        "id": "-ZrRO78DXZq6"
      }
    },
    {
      "cell_type": "code",
      "source": [
        "squares_differences=[(area_price[area] - predicted_price(area))**2 for area in area_price.keys()]\n",
        "print(squares_differences)"
      ],
      "metadata": {
        "id": "dEpxZqK7XzeD",
        "colab": {
          "base_uri": "https://localhost:8080/"
        },
        "outputId": "1d3bccc7-0870-4fac-c247-70cd134077e7"
      },
      "execution_count": null,
      "outputs": [
        {
          "output_type": "stream",
          "name": "stdout",
          "text": [
            "[14390641521.0, 18212852025.0, 3596616795.2400002, 19585722601.0, 6394721089.0, 2497420665.64, 15614501764.0, 14390353616.04, 19586058480.040005]\n"
          ]
        }
      ]
    },
    {
      "cell_type": "markdown",
      "source": [
        "## <u> Problem 2</u>\n",
        "\n",
        "## A sigmoid function is a mathematical function having a characteristic \"S\"-shaped curve or sigmoid curve. A common example of a sigmoid function is the logistic function shown in the first figure and defined by the formula:\n",
        "\n",
        "$$ h(x) =  \\frac{\\mathrm{1} }{\\mathrm{1} + e^{-x} }  $$\n",
        "\n",
        "\n",
        "## Range is defined as all the possible values which the function $h(x)$ can take. Domain is defined as all the possible values which $x$ can take. In this case, range of the function is between 0 to 1 and the domain of the function is all real numbers"
      ],
      "metadata": {
        "id": "PEC_OtXRXrCg"
      }
    },
    {
      "cell_type": "markdown",
      "source": [
        "### You are given a list of values of $x$. You need to use list comprehension to calculate the corresponding transformation according to the sigmoid function defined above"
      ],
      "metadata": {
        "id": "YZCTres_XsB0"
      }
    },
    {
      "cell_type": "code",
      "source": [
        "# Return a list of boolean values if the sigmoid_of_x is greater than or equal to 0 and less than or equal to 1\n",
        "import math\n",
        "def sigmoid(x):\n",
        "    return 1 / (1 + math.exp(-x))\n",
        "# Create a list of those values which are greater than 0.5\n",
        "list_greater = [1,2,3,4,5]\n",
        "ans = [sigmoid(i) for i in list_greater]\n",
        "print(\"Original list:\", list_greater)\n",
        "print(\"Sigmoid function list\", ans)"
      ],
      "metadata": {
        "id": "TmYb4SluYC4S",
        "colab": {
          "base_uri": "https://localhost:8080/"
        },
        "outputId": "3a58d687-bee1-4ddf-87ae-b684357894aa"
      },
      "execution_count": null,
      "outputs": [
        {
          "output_type": "stream",
          "name": "stdout",
          "text": [
            "Original list: [1, 2, 3, 4, 5]\n",
            "Sigmoid function list [0.7310585786300049, 0.8807970779778823, 0.9525741268224334, 0.9820137900379085, 0.9933071490757153]\n"
          ]
        }
      ]
    },
    {
      "cell_type": "markdown",
      "source": [
        "# <u> Problem 3</u>\n",
        "\n",
        "## You are given a sentence : <code>\"I have been walking and running and dancing and smiling and laughing all my life, yet it all seems pointless. So i stoped thinking and started doing\"</code>\n",
        "\n",
        "## You are required to extract all those words from this sentence in a list which ends with <code>ing</code>"
      ],
      "metadata": {
        "id": "j31JnVUtYNU-"
      }
    },
    {
      "cell_type": "code",
      "source": [
        "sentence = \"I have been walking and running and dancing and smiling and laughing all my life, yet it all seems pointless. So I stopped thinking and started doing\"\n",
        "words = sentence.split()\n",
        "ing_words = []\n",
        "for word in words:\n",
        "    if word.endswith(\"ing\"):\n",
        "        word=word.strip(\",.\")\n",
        "        ing_words.append(word)\n",
        "print(ing_words)"
      ],
      "metadata": {
        "id": "8s6rFnH2YO1z",
        "colab": {
          "base_uri": "https://localhost:8080/"
        },
        "outputId": "b410e734-ea78-43e2-930b-1a45146a4d87"
      },
      "execution_count": null,
      "outputs": [
        {
          "output_type": "stream",
          "name": "stdout",
          "text": [
            "['walking', 'running', 'dancing', 'smiling', 'laughing', 'thinking', 'doing']\n"
          ]
        }
      ]
    },
    {
      "cell_type": "markdown",
      "source": [
        "# <u> Problem 4</u>\n",
        "\n",
        "#### Natural Language Processing or NLP is one of the most promising fields in Machine Learning. Most of the times in NLP we deal with the textual data (a bunch of strings). Sometimes when we are processing the text, it is a common practice to get rid of some set of stop words from our original text. By default stop words are very common words used in English language such as and, or, punctuations etc.\n",
        "\n",
        "#### In this exercise, you are provided with a default set of stop words and you need to add some extra set of custom words and remove these words from the given sentence and obtain the sentence without the stop words"
      ],
      "metadata": {
        "id": "rYwInhGlYOyz"
      }
    },
    {
      "cell_type": "code",
      "source": [
        "# A sample sentence\n",
        "sentence = \"Hello everyone, i code everyday.\"\n",
        "# Print your sentence\n",
        "print(sentence)"
      ],
      "metadata": {
        "id": "b86yHqHEYOpp",
        "colab": {
          "base_uri": "https://localhost:8080/"
        },
        "outputId": "bc1f6857-1ead-4482-f128-e47df6e84dfe"
      },
      "execution_count": null,
      "outputs": [
        {
          "output_type": "stream",
          "name": "stdout",
          "text": [
            "Hello everyone, i code everyday.\n"
          ]
        }
      ]
    },
    {
      "cell_type": "code",
      "source": [
        "# Default set of stop words\n",
        "stop_words = {\"i\", \"me\", \"my\", \"myself\", \"we\", \"our\", \"ours\", \"ourselves\", \"you\", \"your\", \"yours\", \"yourself\",\n",
        "              \"yourselves\", \"he\", \"him\", \"his\", \"himself\", \"she\", \"her\", \"hers\", \"herself\", \"it\", \"its\", \"itself\",\n",
        "              \"they\", \"them\", \"their\", \"theirs\", \"themselves\", \"what\", \"which\", \"who\", \"whom\", \"this\", \"that\",\n",
        "              \"these\", \"those\", \"am\", \"is\", \"are\", \"was\", \"were\", \"be\", \"been\", \"being\", \"have\", \"has\", \"had\",\n",
        "              \"having\", \"do\", \"does\", \"did\", \"doing\", \"a\", \"an\", \"the\", \"and\", \"but\", \"if\", \"or\", \"because\",\n",
        "              \"as\", \"until\", \"while\", \"of\", \"at\", \"by\", \"for\", \"with\", \"about\", \"against\", \"between\", \"into\",\n",
        "              \"through\", \"during\", \"before\", \"after\", \"above\", \"below\", \"to\", \"from\", \"up\", \"down\", \"in\", \"out\",\n",
        "              \"on\", \"off\", \"over\", \"under\", \"again\", \"further\", \"then\", \"once\", \"here\", \"there\", \"when\", \"where\",\n",
        "              \"why\", \"how\", \"all\", \"any\", \"both\", \"each\", \"few\", \"more\", \"most\", \"other\", \"some\", \"such\", \"no\",\n",
        "              \"nor\", \"not\", \"only\", \"own\", \"same\", \"so\", \"than\", \"too\", \"very\", \"s\", \"t\", \"can\", \"will\", \"just\",\n",
        "              \"don\", \"should\", \"now\"}"
      ],
      "metadata": {
        "id": "RbyJscXWYh0z"
      },
      "execution_count": null,
      "outputs": []
    },
    {
      "cell_type": "code",
      "source": [
        "\n",
        "custom_stop_words = [\"hello\",\"folks\",\"good\",\"morning\",\"half\",\"year\"]\n",
        "# Update the set of stop words by adding the custom stop words\n",
        "stop_words.update(custom_stop_words)\n"
      ],
      "metadata": {
        "id": "JCZ3mWDEYplT"
      },
      "execution_count": null,
      "outputs": []
    },
    {
      "cell_type": "code",
      "source": [
        "# Create the list of words in the given sentence.\n",
        "words = sentence.split()"
      ],
      "metadata": {
        "id": "OG_iCUm9Yyx3"
      },
      "execution_count": null,
      "outputs": []
    },
    {
      "cell_type": "code",
      "source": [
        "# Use list comprehension to remove the set of updated stop words from the list of words\n",
        "new_words =[word for word in words if word.lower() not in stop_words]"
      ],
      "metadata": {
        "id": "Kk665UtXY3UH"
      },
      "execution_count": null,
      "outputs": []
    },
    {
      "cell_type": "code",
      "source": [
        "# Finally using the join() method, get the sentence without the stop words. Keep in mind that every word in the sentence will be separated by space\n",
        "result =' '.join(new_words)\n",
        "# Print the modified sentence\n",
        "print(result)"
      ],
      "metadata": {
        "id": "RzO-jDZVY6wD",
        "colab": {
          "base_uri": "https://localhost:8080/"
        },
        "outputId": "47a97790-ebb9-4d52-ea88-d51427a3a872"
      },
      "execution_count": null,
      "outputs": [
        {
          "output_type": "stream",
          "name": "stdout",
          "text": [
            "everyone, code everyday.\n"
          ]
        }
      ]
    }
  ]
}