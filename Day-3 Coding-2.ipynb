{
  "nbformat": 4,
  "nbformat_minor": 0,
  "metadata": {
    "colab": {
      "provenance": [],
      "include_colab_link": true
    },
    "kernelspec": {
      "name": "python3",
      "display_name": "Python 3"
    },
    "language_info": {
      "name": "python"
    }
  },
  "cells": [
    {
      "cell_type": "markdown",
      "metadata": {
        "id": "view-in-github",
        "colab_type": "text"
      },
      "source": [
        "<a href=\"https://colab.research.google.com/github/arunyeldi/python-coding/blob/main/Day-3%20Coding-2.ipynb\" target=\"_parent\"><img src=\"https://colab.research.google.com/assets/colab-badge.svg\" alt=\"Open In Colab\"/></a>"
      ]
    },
    {
      "cell_type": "markdown",
      "source": [
        "## Write a python program to crate a lambda funciotn that adds 15 to a given numebr\n"
      ],
      "metadata": {
        "id": "Cu2MTBpAH98v"
      }
    },
    {
      "cell_type": "code",
      "source": [
        "sum = lambda x:x+15\n",
        "num = 15\n",
        "ans = sum(num)\n",
        "print(ans)"
      ],
      "metadata": {
        "id": "ERMc1QfnIYgd",
        "colab": {
          "base_uri": "https://localhost:8080/"
        },
        "outputId": "0ebb3ca5-d609-46f4-b240-d7b0f7f08324"
      },
      "execution_count": 3,
      "outputs": [
        {
          "output_type": "stream",
          "name": "stdout",
          "text": [
            "30\n"
          ]
        }
      ]
    },
    {
      "cell_type": "markdown",
      "source": [
        "## Write a funciton to create a prime number generator"
      ],
      "metadata": {
        "id": "QvheE-ZfIJFc"
      }
    },
    {
      "cell_type": "code",
      "source": [
        "def is_prime(num):\n",
        "    if num < 2:\n",
        "        return False\n",
        "    for i in range(2, int(num**0.5) + 1):\n",
        "        if num % i == 0:\n",
        "            return False\n",
        "    return True\n",
        "def prime_generator():\n",
        "    num = 2\n",
        "    while True:\n",
        "        if is_prime(num):\n",
        "            yield num\n",
        "        num += 1\n",
        "num_primes = 5\n",
        "generator = prime_generator()\n",
        "for i in range(num_primes):\n",
        "    print(next(generator))"
      ],
      "metadata": {
        "id": "z19r-AaMIIlC",
        "colab": {
          "base_uri": "https://localhost:8080/"
        },
        "outputId": "7cccbd7a-c7e6-474c-afb3-31fe22d9f97e"
      },
      "execution_count": 6,
      "outputs": [
        {
          "output_type": "stream",
          "name": "stdout",
          "text": [
            "2\n",
            "3\n",
            "5\n",
            "7\n",
            "11\n"
          ]
        }
      ]
    },
    {
      "cell_type": "markdown",
      "source": [
        "## Create a lambda funtion to filter out the even numebr from a given list"
      ],
      "metadata": {
        "id": "fgG1qcgaIZKL"
      }
    },
    {
      "cell_type": "code",
      "source": [
        "l=[12, 34, 57, 89, 88, 78, 95, 90]\n",
        "even_numbers=list(filter(lambda x: x%2!=0,l))\n",
        "print(even_numbers)"
      ],
      "metadata": {
        "id": "FWQS-SgjImHw",
        "colab": {
          "base_uri": "https://localhost:8080/"
        },
        "outputId": "ceec7d00-96a1-401f-9ee7-2f932ca111cb"
      },
      "execution_count": 7,
      "outputs": [
        {
          "output_type": "stream",
          "name": "stdout",
          "text": [
            "[57, 89, 95]\n"
          ]
        }
      ]
    },
    {
      "cell_type": "markdown",
      "source": [
        "## Create a funciton for prime numebr generator"
      ],
      "metadata": {
        "id": "c1H7iXqDIuJI"
      }
    },
    {
      "cell_type": "code",
      "source": [
        "def is_prime(num):\n",
        "    if num < 2:\n",
        "        return False\n",
        "    for i in range(2, int(num**0.5) + 1):\n",
        "        if num % i == 0:\n",
        "            return False\n",
        "    return True\n",
        "def prime_generator():\n",
        "    num = 2\n",
        "    while True:\n",
        "        if is_prime(num):\n",
        "            yield num\n",
        "        num += 1\n",
        "num_primes = 5\n",
        "generator = prime_generator()\n",
        "for i in range(num_primes):\n",
        "    print(next(generator))"
      ],
      "metadata": {
        "id": "B6zt1ESKI2T4",
        "colab": {
          "base_uri": "https://localhost:8080/"
        },
        "outputId": "6e085445-8b70-4d80-a840-b2dec73a029f"
      },
      "execution_count": 8,
      "outputs": [
        {
          "output_type": "stream",
          "name": "stdout",
          "text": [
            "2\n",
            "3\n",
            "5\n",
            "7\n",
            "11\n"
          ]
        }
      ]
    },
    {
      "cell_type": "markdown",
      "source": [
        "## create funciton for fibbonacci series generator"
      ],
      "metadata": {
        "id": "NMp0TAZaI18z"
      }
    },
    {
      "cell_type": "code",
      "source": [
        "def fibonacci():\n",
        "    a,b = 0,1\n",
        "    while True:\n",
        "        yield a\n",
        "        a,b=b,a+b\n",
        "n=15\n",
        "generator=fibonacci()\n",
        "for i in range(n):\n",
        "    print(next(generator))"
      ],
      "metadata": {
        "colab": {
          "base_uri": "https://localhost:8080/"
        },
        "id": "MRgkVa-GTalV",
        "outputId": "988d122a-c3da-4505-e348-a69dad4f293a"
      },
      "execution_count": 9,
      "outputs": [
        {
          "output_type": "stream",
          "name": "stdout",
          "text": [
            "0\n",
            "1\n",
            "1\n",
            "2\n",
            "3\n",
            "5\n",
            "8\n",
            "13\n",
            "21\n",
            "34\n",
            "55\n",
            "89\n",
            "144\n",
            "233\n",
            "377\n"
          ]
        }
      ]
    },
    {
      "cell_type": "code",
      "source": [
        "path=\"/content/1ec79da3-fd78-470e-89fb-d2dbd13bd479.jpeg\""
      ],
      "metadata": {
        "id": "dpa2ABE8JCnt"
      },
      "execution_count": null,
      "outputs": []
    },
    {
      "cell_type": "code",
      "source": [
        "pattt=\"/content/drive/MyDrive/British-a/Data Cleaning.ipynb\""
      ],
      "metadata": {
        "id": "CljxQ_d2PHzK"
      },
      "execution_count": null,
      "outputs": []
    }
  ]
}