{
  "nbformat": 4,
  "nbformat_minor": 0,
  "metadata": {
    "colab": {
      "provenance": [],
      "include_colab_link": true
    },
    "kernelspec": {
      "name": "python3",
      "display_name": "Python 3"
    },
    "language_info": {
      "name": "python"
    }
  },
  "cells": [
    {
      "cell_type": "markdown",
      "metadata": {
        "id": "view-in-github",
        "colab_type": "text"
      },
      "source": [
        "<a href=\"https://colab.research.google.com/github/arunyeldi/python-coding/blob/main/Day-4%20Coding.ipynb\" target=\"_parent\"><img src=\"https://colab.research.google.com/assets/colab-badge.svg\" alt=\"Open In Colab\"/></a>"
      ]
    },
    {
      "cell_type": "markdown",
      "source": [
        "`Good morning, wish you all the best,.All the 3 assignment has been included here only`"
      ],
      "metadata": {
        "id": "jWYB760w4xUu"
      }
    },
    {
      "cell_type": "markdown",
      "source": [
        "# Part ONe"
      ],
      "metadata": {
        "id": "uRvHq6WK1iip"
      }
    },
    {
      "cell_type": "markdown",
      "source": [
        "## 1. Create a function that sum only the float number from a given hetrogenous list"
      ],
      "metadata": {
        "id": "xpZzcKAyyb6V"
      }
    },
    {
      "cell_type": "code",
      "source": [
        "def sum_of_float_number(heterogeneous_list):\n",
        "  float_sum = 0.0\n",
        "  for item in heterogeneous_list:\n",
        "    if isinstance(item, float):\n",
        "      float_sum += item\n",
        "  return float_sum\n",
        "\n",
        "heterogeneous_list = ['Arun', 2.55, 9, True, 9.8, 22.5]\n",
        "result = sum_of_float_number(heterogeneous_list)\n",
        "print(f\"Sum of float number from a given heterogeneous list {heterogeneous_list} is: {result}\")"
      ],
      "metadata": {
        "id": "eLlEJRxTy8_f",
        "colab": {
          "base_uri": "https://localhost:8080/"
        },
        "outputId": "3bc6bfab-0331-4dc9-b34e-1c50ca3bbe57"
      },
      "execution_count": 1,
      "outputs": [
        {
          "output_type": "stream",
          "name": "stdout",
          "text": [
            "Sum of float number from a given heterogeneous list ['Arun', 2.55, 9, True, 9.8, 22.5] is: 34.85\n"
          ]
        }
      ]
    },
    {
      "cell_type": "code",
      "source": [
        "# reverse the list using the loop\n",
        "def reverse_of_list(heterogeneous_list):\n",
        "  length = len(heterogeneous_list) - 1\n",
        "  for i in range(len(heterogeneous_list) // 2):\n",
        "    heterogeneous_list[i], heterogeneous_list[length - i] = heterogeneous_list[length - i], heterogeneous_list[i]\n",
        "  print(f\"Reverse of the heterogeneous list using loop: {heterogeneous_list}\")\n",
        "\n",
        "heterogeneous_list = ['Arun', 2.55, 9, True, 9.8, 22.5]\n",
        "print(f\"Original heterogeneous list is: {heterogeneous_list}\")\n",
        "reverse_of_list(heterogeneous_list)"
      ],
      "metadata": {
        "id": "TO6D3KTSy9-x",
        "colab": {
          "base_uri": "https://localhost:8080/"
        },
        "outputId": "e1d99b04-2e0d-4b81-9abf-9ae87b27e3c7"
      },
      "execution_count": 50,
      "outputs": [
        {
          "output_type": "stream",
          "name": "stdout",
          "text": [
            "Original heterogeneous list is: ['Arun', 2.55, 9, True, 9.8, 22.5]\n",
            "Reverse of the heterogeneous list using loop: [22.5, 9.8, True, 9, 2.55, 'Arun']\n"
          ]
        }
      ]
    },
    {
      "cell_type": "markdown",
      "source": [
        "## 2. Count the total number of digit using the loop"
      ],
      "metadata": {
        "id": "MxMyCaZHzEB-"
      }
    },
    {
      "cell_type": "code",
      "source": [
        "number = int(input(\"Enter any number: \"))\n",
        "number = abs(number)\n",
        "digit_count = 0\n",
        "while number > 0:\n",
        "  digit_count += 1\n",
        "  number //= 10\n",
        "print(f\"Number of digits to the given number: {digit_count}\")"
      ],
      "metadata": {
        "id": "DZYJiYdQzcVv",
        "colab": {
          "base_uri": "https://localhost:8080/"
        },
        "outputId": "c844ef37-519f-48f7-8caa-f525b1ba5eb2"
      },
      "execution_count": 6,
      "outputs": [
        {
          "output_type": "stream",
          "name": "stdout",
          "text": [
            "Enter any number: -4668422\n",
            "Number of digits to the given number: 7\n"
          ]
        }
      ]
    },
    {
      "cell_type": "markdown",
      "source": [
        "## 3. Display this\n",
        "5 4 3 2 1\n",
        "\n",
        "4 3 2 1\n",
        "\n",
        "3 2 1\n",
        "\n",
        "2 1\n",
        "\n",
        "1"
      ],
      "metadata": {
        "id": "kG8Phx7VzYWD"
      }
    },
    {
      "cell_type": "code",
      "source": [
        "for i in range(5):\n",
        "  for j in range(5 - i):\n",
        "    print((5-i) - j, end = ' ')\n",
        "  print()"
      ],
      "metadata": {
        "colab": {
          "base_uri": "https://localhost:8080/"
        },
        "id": "pcPYlUTWQO79",
        "outputId": "33aba8d5-0d83-4493-90c9-188831a261c7"
      },
      "execution_count": 33,
      "outputs": [
        {
          "output_type": "stream",
          "name": "stdout",
          "text": [
            "5 4 3 2 1 \n",
            "4 3 2 1 \n",
            "3 2 1 \n",
            "2 1 \n",
            "1 \n"
          ]
        }
      ]
    },
    {
      "cell_type": "markdown",
      "source": [
        "## 4. Display this"
      ],
      "metadata": {
        "id": "xTaGWpQXzy-M"
      }
    },
    {
      "cell_type": "code",
      "source": [
        "*\n",
        "* *\n",
        "* * *\n",
        "* * * *\n",
        "* * * * *\n",
        "* * * *\n",
        "* * *\n",
        "* *\n",
        "*"
      ],
      "metadata": {
        "id": "ixPmbjRfzx16"
      },
      "execution_count": null,
      "outputs": []
    },
    {
      "cell_type": "code",
      "source": [
        "for i in range(5):\n",
        "  for j in range(i+1):\n",
        "    print('*', end = ' ')\n",
        "  print()\n",
        "for i in range(4):\n",
        "  for j in range(4 - i):\n",
        "    print('*', end = ' ')\n",
        "  print()"
      ],
      "metadata": {
        "colab": {
          "base_uri": "https://localhost:8080/"
        },
        "id": "HEZ1XFm8Roui",
        "outputId": "0eb88518-3922-4958-c1eb-46d70b241577"
      },
      "execution_count": 34,
      "outputs": [
        {
          "output_type": "stream",
          "name": "stdout",
          "text": [
            "* \n",
            "* * \n",
            "* * * \n",
            "* * * * \n",
            "* * * * * \n",
            "* * * * \n",
            "* * * \n",
            "* * \n",
            "* \n"
          ]
        }
      ]
    },
    {
      "cell_type": "markdown",
      "source": [
        "## 5. Write function that generate multiplication table upto a given range in Python"
      ],
      "metadata": {
        "id": "1OYQk9N70Ax3"
      }
    },
    {
      "cell_type": "code",
      "source": [
        "def print_multiplication_table(num):\n",
        "  for j in range(1, 11):\n",
        "    print(f\"{i} * {j} = {i * j}\")\n",
        "  print()\n",
        "\n",
        "n = int(input(\"Enter the first number: \"))\n",
        "m = int(input(\"Enter the second number: \"))\n",
        "for i in range(n, m):\n",
        "  print_multiplication_table(i)"
      ],
      "metadata": {
        "id": "NeosDqO904-u",
        "colab": {
          "base_uri": "https://localhost:8080/"
        },
        "outputId": "86759fca-1aef-414a-b3ff-f82e9dc64a80"
      },
      "execution_count": 49,
      "outputs": [
        {
          "output_type": "stream",
          "name": "stdout",
          "text": [
            "Enter the first number: 12\n",
            "Enter the second number: 15\n",
            "12 * 1 = 12\n",
            "12 * 2 = 24\n",
            "12 * 3 = 36\n",
            "12 * 4 = 48\n",
            "12 * 5 = 60\n",
            "12 * 6 = 72\n",
            "12 * 7 = 84\n",
            "12 * 8 = 96\n",
            "12 * 9 = 108\n",
            "12 * 10 = 120\n",
            "\n",
            "13 * 1 = 13\n",
            "13 * 2 = 26\n",
            "13 * 3 = 39\n",
            "13 * 4 = 52\n",
            "13 * 5 = 65\n",
            "13 * 6 = 78\n",
            "13 * 7 = 91\n",
            "13 * 8 = 104\n",
            "13 * 9 = 117\n",
            "13 * 10 = 130\n",
            "\n",
            "14 * 1 = 14\n",
            "14 * 2 = 28\n",
            "14 * 3 = 42\n",
            "14 * 4 = 56\n",
            "14 * 5 = 70\n",
            "14 * 6 = 84\n",
            "14 * 7 = 98\n",
            "14 * 8 = 112\n",
            "14 * 9 = 126\n",
            "14 * 10 = 140\n",
            "\n"
          ]
        }
      ]
    },
    {
      "cell_type": "code",
      "source": [
        "# what are the difference between the list comprehension and loop??"
      ],
      "metadata": {
        "id": "V9z-kXUi0468"
      },
      "execution_count": null,
      "outputs": []
    },
    {
      "cell_type": "markdown",
      "source": [
        "List Comprehension: Concise syntax for creating lists by applying an operation to each element of an existing iterable.\n",
        "\n",
        "Loops: Provide more control and flexibility over iterations, suitable for complex transformations, handling side effects, and operations that require more control over the iteration process.\n",
        "\n",
        "Performance: List comprehensions are generally faster and more efficient than loops for simple transformations due to their optimized implementation.\n",
        "\n",
        "Readability: List comprehensions often result in more readable and compact code, especially for simple transformations, while loops may offer better readability in complex scenarios or when more explicit control over the iteration process is needed.\n",
        "\n",
        "Nested Operations: List comprehensions support nested operations within a single expression, making them suitable for expressing multi-step transformations of data more compactly."
      ],
      "metadata": {
        "id": "6VWh0EBBXl_u"
      }
    },
    {
      "cell_type": "code",
      "source": [
        "# Using List Comprehension\n",
        "squares_lc = [x**2 for x in range(1, 6)]\n",
        "print(\"List Comprehension:\", squares_lc)\n",
        "\n",
        "# Using Loop\n",
        "squares_loop = []\n",
        "for x in range(1, 6):\n",
        "    squares_loop.append(x**2)\n",
        "print(\"Loop:\", squares_loop)"
      ],
      "metadata": {
        "id": "e0eLnJqd04b2",
        "colab": {
          "base_uri": "https://localhost:8080/"
        },
        "outputId": "ca592005-1685-42c8-9a4d-df4821c404e2"
      },
      "execution_count": 38,
      "outputs": [
        {
          "output_type": "stream",
          "name": "stdout",
          "text": [
            "List Comprehension: [1, 4, 9, 16, 25]\n",
            "Loop: [1, 4, 9, 16, 25]\n"
          ]
        }
      ]
    },
    {
      "cell_type": "markdown",
      "source": [
        "# Part two"
      ],
      "metadata": {
        "id": "HrRqpK9A1mvj"
      }
    },
    {
      "cell_type": "markdown",
      "source": [
        "## 6. Write a python program for the palindrome checker using the loop"
      ],
      "metadata": {
        "id": "T36QPuxw1pfo"
      }
    },
    {
      "cell_type": "code",
      "source": [
        "num = int(input(\"Enter any number: \"))\n",
        "number = num\n",
        "sum = 0\n",
        "while num > 0:\n",
        "  rem = num % 10\n",
        "  sum = sum * 10 + rem\n",
        "  num = num // 10\n",
        "if sum == number:\n",
        "  print(f\"Given number is a palindrome\")\n",
        "else:\n",
        "  print(f\"Given number is not a palindrome\")"
      ],
      "metadata": {
        "id": "5k_AjmF_2c6r",
        "colab": {
          "base_uri": "https://localhost:8080/"
        },
        "outputId": "aa14c0d3-602b-4e1b-eefa-b6d4e36b5fcf"
      },
      "execution_count": 46,
      "outputs": [
        {
          "output_type": "stream",
          "name": "stdout",
          "text": [
            "Enter any number: 16461\n",
            "Given number is a palindrome\n"
          ]
        }
      ]
    },
    {
      "cell_type": "markdown",
      "source": [
        "## 7. Factorial Calculation\n",
        "Write a program that calculates the factorial of a given number using a loop. The user should input the number, and the program should display its factorial."
      ],
      "metadata": {
        "id": "QLZ4Dc1O1zHm"
      }
    },
    {
      "cell_type": "code",
      "source": [
        "number = int(input(\"Enter number: \"))\n",
        "factorial = 1\n",
        "for i in range(2, number + 1):\n",
        "  factorial *= i\n",
        "print(f\"Factorial of {number} is: {factorial}\")\n"
      ],
      "metadata": {
        "id": "XJZCGK0s2LYV",
        "colab": {
          "base_uri": "https://localhost:8080/"
        },
        "outputId": "dc0803b6-9689-4069-832d-5d5da46f4250"
      },
      "execution_count": 51,
      "outputs": [
        {
          "output_type": "stream",
          "name": "stdout",
          "text": [
            "Enter number: 6\n",
            "Factorial of 6 is: 720\n"
          ]
        }
      ]
    },
    {
      "cell_type": "markdown",
      "source": [
        "## 8. Binary to Decimal Converter\n",
        "Create a program that converts a binary number (entered by the user) to its decimal equivalent. The user should input the binary number as a string, and the program should output its decimal equivalent."
      ],
      "metadata": {
        "id": "dAX_1Cgx2LtY"
      }
    },
    {
      "cell_type": "code",
      "source": [
        "binary_string = input(\"Enter binary string: \")\n",
        "binary_string_rev = binary_string[::-1]\n",
        "power = 0\n",
        "decimal = 0\n",
        "for i in binary_string_rev:\n",
        "  if i == '1':\n",
        "    decimal += 2**power\n",
        "  power += 1\n",
        "print(f\"Binary to Decimal : {binary_string} ---> {decimal}\")"
      ],
      "metadata": {
        "colab": {
          "base_uri": "https://localhost:8080/"
        },
        "id": "9zyF8K05eI17",
        "outputId": "a4027d65-230d-44e9-f4a0-a0b70c8d2e63"
      },
      "execution_count": 57,
      "outputs": [
        {
          "output_type": "stream",
          "name": "stdout",
          "text": [
            "Enter binary string: 10101\n",
            "Binary to Decimal : 10101 ---> 21\n"
          ]
        }
      ]
    },
    {
      "cell_type": "markdown",
      "source": [
        "## 10. Matrix Transposition:\n",
        "Create a program that transposes a given matrix. The user should input the matrix as a list of lists, and the program should output the transposed matrix. For example, if the input is:"
      ],
      "metadata": {
        "id": "bhFgXCu52R3n"
      }
    },
    {
      "cell_type": "code",
      "source": [
        "mat1=[[1,2,3],[4,5,6],[7,8,9]]\n",
        "print(\"Original Mtarix is: \")\n",
        "for i in range(len(mat1)):\n",
        "  for j in range(len(mat1)):\n",
        "    print(mat1[i][j],end=\" \")\n",
        "  print()\n",
        "print(\"The Transpose matrix is: \")\n",
        "for i in range(len(mat1)):\n",
        "  for j in range(len(mat1)):\n",
        "    print(mat1[j][i],end=\" \")\n",
        "  print()"
      ],
      "metadata": {
        "id": "DhprwtQ02hWg",
        "colab": {
          "base_uri": "https://localhost:8080/"
        },
        "outputId": "9b140c5a-2c48-4652-c73c-db61d313380d"
      },
      "execution_count": 8,
      "outputs": [
        {
          "output_type": "stream",
          "name": "stdout",
          "text": [
            "Original Mtarix is: \n",
            "1 2 3 \n",
            "4 5 6 \n",
            "7 8 9 \n",
            "The Transpose matrix is: \n",
            "1 4 7 \n",
            "2 5 8 \n",
            "3 6 9 \n"
          ]
        }
      ]
    },
    {
      "cell_type": "markdown",
      "source": [
        "`Feel free to tackle these exercises and let me know if you have any questions or need further explanations!`"
      ],
      "metadata": {
        "id": "l1a5wpfM2hv6"
      }
    },
    {
      "cell_type": "markdown",
      "source": [
        "# Part Three File Handling\n",
        "Calm and do it slowly and in github also try to upload the files possible"
      ],
      "metadata": {
        "id": "ZlrFrill3Bl4"
      }
    },
    {
      "cell_type": "markdown",
      "source": [
        "## 11. program to open the text file and edit it"
      ],
      "metadata": {
        "id": "-9k8YJfF3BLW"
      }
    },
    {
      "cell_type": "code",
      "source": [
        "def edit_text_file(file_path, new_content):\n",
        "    # Open the file in append mode\n",
        "    file = open(file_path, 'a')\n",
        "    # Write the new content to the file\n",
        "    file.write('\\n' + new_content)\n",
        "    # Close the file\n",
        "    file.close()\n",
        "    print(\"File edited successfully!\")\n",
        "\n",
        "# Example usage:\n",
        "file_path = \"example.txt\"\n",
        "new_content = \"This is new content added to the file.\"\n",
        "\n",
        "edit_text_file(file_path, new_content)\n"
      ],
      "metadata": {
        "id": "Quy4F2UR3c04",
        "colab": {
          "base_uri": "https://localhost:8080/"
        },
        "outputId": "0fd7ebb9-e445-4eb4-db16-77b9a29b00cf"
      },
      "execution_count": 9,
      "outputs": [
        {
          "output_type": "stream",
          "name": "stdout",
          "text": [
            "File edited successfully!\n"
          ]
        }
      ]
    },
    {
      "cell_type": "markdown",
      "source": [
        "## 12. Program to list all the file in the directory\n"
      ],
      "metadata": {
        "id": "ovYWZKNH3AH_"
      }
    },
    {
      "cell_type": "code",
      "source": [
        "import os\n",
        "file_list = os.listdir(cd)\n",
        "print(\"Files in the directory:\")\n",
        "print(file_list)"
      ],
      "metadata": {
        "id": "S260xGwo38vk",
        "colab": {
          "base_uri": "https://localhost:8080/",
          "height": 227
        },
        "outputId": "56925192-8884-4a95-ca23-8337e41b8b32"
      },
      "execution_count": 11,
      "outputs": [
        {
          "output_type": "error",
          "ename": "NameError",
          "evalue": "name 'cd' is not defined",
          "traceback": [
            "\u001b[0;31m---------------------------------------------------------------------------\u001b[0m",
            "\u001b[0;31mNameError\u001b[0m                                 Traceback (most recent call last)",
            "\u001b[0;32m<ipython-input-11-50d012844b29>\u001b[0m in \u001b[0;36m<cell line: 2>\u001b[0;34m()\u001b[0m\n\u001b[1;32m      1\u001b[0m \u001b[0;32mimport\u001b[0m \u001b[0mos\u001b[0m\u001b[0;34m\u001b[0m\u001b[0;34m\u001b[0m\u001b[0m\n\u001b[0;32m----> 2\u001b[0;31m \u001b[0mfile_list\u001b[0m \u001b[0;34m=\u001b[0m \u001b[0mos\u001b[0m\u001b[0;34m.\u001b[0m\u001b[0mlistdir\u001b[0m\u001b[0;34m(\u001b[0m\u001b[0mcd\u001b[0m\u001b[0;34m)\u001b[0m\u001b[0;34m\u001b[0m\u001b[0;34m\u001b[0m\u001b[0m\n\u001b[0m\u001b[1;32m      3\u001b[0m \u001b[0mprint\u001b[0m\u001b[0;34m(\u001b[0m\u001b[0;34m\"Files in the directory:\"\u001b[0m\u001b[0;34m)\u001b[0m\u001b[0;34m\u001b[0m\u001b[0;34m\u001b[0m\u001b[0m\n\u001b[1;32m      4\u001b[0m \u001b[0mprint\u001b[0m\u001b[0;34m(\u001b[0m\u001b[0mfile_list\u001b[0m\u001b[0;34m)\u001b[0m\u001b[0;34m\u001b[0m\u001b[0;34m\u001b[0m\u001b[0m\n",
            "\u001b[0;31mNameError\u001b[0m: name 'cd' is not defined"
          ]
        }
      ]
    },
    {
      "cell_type": "markdown",
      "source": [
        "## 13. program to find the name of list only the text file and only the image file specifically\n"
      ],
      "metadata": {
        "id": "pNalRqq-3mjE"
      }
    },
    {
      "cell_type": "markdown",
      "source": [
        "## 14. Program to copy the the file and also the bundle of file to the specific location"
      ],
      "metadata": {
        "id": "7xVL49o739jv"
      }
    },
    {
      "cell_type": "code",
      "source": [],
      "metadata": {
        "id": "rlMl6YVH4I_z"
      },
      "execution_count": null,
      "outputs": []
    },
    {
      "cell_type": "markdown",
      "source": [
        "## 15. Program to delete the specific file and folder"
      ],
      "metadata": {
        "id": "rzaMo5ZT4E7R"
      }
    },
    {
      "cell_type": "code",
      "source": [],
      "metadata": {
        "id": "Gpw4a5194oaa"
      },
      "execution_count": null,
      "outputs": []
    },
    {
      "cell_type": "markdown",
      "source": [],
      "metadata": {
        "id": "O2PS1zXT4pF5"
      }
    }
  ]
}